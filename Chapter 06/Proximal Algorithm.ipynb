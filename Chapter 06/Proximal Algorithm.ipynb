{
 "cells": [
  {
   "cell_type": "code",
   "execution_count": 1,
   "id": "f0339920-9f5c-4cbb-869f-e238e9a901b3",
   "metadata": {},
   "outputs": [],
   "source": [
    "import numpy as np\n",
    "import pandas as pd\n",
    "from sklearn.model_selection import train_test_split\n",
    "from matplotlib import pyplot as plt"
   ]
  },
  {
   "cell_type": "code",
   "execution_count": 2,
   "id": "367c08ab-a678-4047-92ae-fe555d1b2367",
   "metadata": {},
   "outputs": [],
   "source": [
    "def Loss(x,y,beta):\n",
    "    return np.sum((x@beta-y)**2)/len(x)\n",
    "def Gradient(x,y,beta):\n",
    "    return -2/len(x)*x.T@(y-x@beta)"
   ]
  },
  {
   "cell_type": "code",
   "execution_count": 3,
   "id": "3b7b3d5a-0ff9-49b1-bd45-51df42ffce2c",
   "metadata": {},
   "outputs": [
    {
     "data": {
      "text/html": [
       "<div>\n",
       "<style scoped>\n",
       "    .dataframe tbody tr th:only-of-type {\n",
       "        vertical-align: middle;\n",
       "    }\n",
       "\n",
       "    .dataframe tbody tr th {\n",
       "        vertical-align: top;\n",
       "    }\n",
       "\n",
       "    .dataframe thead th {\n",
       "        text-align: right;\n",
       "    }\n",
       "</style>\n",
       "<table border=\"1\" class=\"dataframe\">\n",
       "  <thead>\n",
       "    <tr style=\"text-align: right;\">\n",
       "      <th></th>\n",
       "      <th>CRIM</th>\n",
       "      <th>ZN</th>\n",
       "      <th>INDUS</th>\n",
       "      <th>CHAS</th>\n",
       "      <th>NOX</th>\n",
       "      <th>RM</th>\n",
       "      <th>AGE</th>\n",
       "      <th>DIS</th>\n",
       "      <th>RAD</th>\n",
       "      <th>TAX</th>\n",
       "      <th>PTRATIO</th>\n",
       "      <th>B</th>\n",
       "      <th>LSTAT</th>\n",
       "      <th>MEDV</th>\n",
       "    </tr>\n",
       "  </thead>\n",
       "  <tbody>\n",
       "    <tr>\n",
       "      <th>0</th>\n",
       "      <td>0.00632</td>\n",
       "      <td>18.0</td>\n",
       "      <td>2.31</td>\n",
       "      <td>0</td>\n",
       "      <td>0.538</td>\n",
       "      <td>6.575</td>\n",
       "      <td>65.2</td>\n",
       "      <td>4.0900</td>\n",
       "      <td>1</td>\n",
       "      <td>296</td>\n",
       "      <td>15.3</td>\n",
       "      <td>396.90</td>\n",
       "      <td>4.98</td>\n",
       "      <td>24.0</td>\n",
       "    </tr>\n",
       "    <tr>\n",
       "      <th>1</th>\n",
       "      <td>0.02731</td>\n",
       "      <td>0.0</td>\n",
       "      <td>7.07</td>\n",
       "      <td>0</td>\n",
       "      <td>0.469</td>\n",
       "      <td>6.421</td>\n",
       "      <td>78.9</td>\n",
       "      <td>4.9671</td>\n",
       "      <td>2</td>\n",
       "      <td>242</td>\n",
       "      <td>17.8</td>\n",
       "      <td>396.90</td>\n",
       "      <td>9.14</td>\n",
       "      <td>21.6</td>\n",
       "    </tr>\n",
       "    <tr>\n",
       "      <th>2</th>\n",
       "      <td>0.02729</td>\n",
       "      <td>0.0</td>\n",
       "      <td>7.07</td>\n",
       "      <td>0</td>\n",
       "      <td>0.469</td>\n",
       "      <td>7.185</td>\n",
       "      <td>61.1</td>\n",
       "      <td>4.9671</td>\n",
       "      <td>2</td>\n",
       "      <td>242</td>\n",
       "      <td>17.8</td>\n",
       "      <td>392.83</td>\n",
       "      <td>4.03</td>\n",
       "      <td>34.7</td>\n",
       "    </tr>\n",
       "    <tr>\n",
       "      <th>3</th>\n",
       "      <td>0.03237</td>\n",
       "      <td>0.0</td>\n",
       "      <td>2.18</td>\n",
       "      <td>0</td>\n",
       "      <td>0.458</td>\n",
       "      <td>6.998</td>\n",
       "      <td>45.8</td>\n",
       "      <td>6.0622</td>\n",
       "      <td>3</td>\n",
       "      <td>222</td>\n",
       "      <td>18.7</td>\n",
       "      <td>394.63</td>\n",
       "      <td>2.94</td>\n",
       "      <td>33.4</td>\n",
       "    </tr>\n",
       "    <tr>\n",
       "      <th>4</th>\n",
       "      <td>0.06905</td>\n",
       "      <td>0.0</td>\n",
       "      <td>2.18</td>\n",
       "      <td>0</td>\n",
       "      <td>0.458</td>\n",
       "      <td>7.147</td>\n",
       "      <td>54.2</td>\n",
       "      <td>6.0622</td>\n",
       "      <td>3</td>\n",
       "      <td>222</td>\n",
       "      <td>18.7</td>\n",
       "      <td>396.90</td>\n",
       "      <td>5.33</td>\n",
       "      <td>36.2</td>\n",
       "    </tr>\n",
       "  </tbody>\n",
       "</table>\n",
       "</div>"
      ],
      "text/plain": [
       "      CRIM    ZN  INDUS  CHAS    NOX     RM   AGE     DIS  RAD  TAX  PTRATIO  \\\n",
       "0  0.00632  18.0   2.31     0  0.538  6.575  65.2  4.0900    1  296     15.3   \n",
       "1  0.02731   0.0   7.07     0  0.469  6.421  78.9  4.9671    2  242     17.8   \n",
       "2  0.02729   0.0   7.07     0  0.469  7.185  61.1  4.9671    2  242     17.8   \n",
       "3  0.03237   0.0   2.18     0  0.458  6.998  45.8  6.0622    3  222     18.7   \n",
       "4  0.06905   0.0   2.18     0  0.458  7.147  54.2  6.0622    3  222     18.7   \n",
       "\n",
       "        B  LSTAT  MEDV  \n",
       "0  396.90   4.98  24.0  \n",
       "1  396.90   9.14  21.6  \n",
       "2  392.83   4.03  34.7  \n",
       "3  394.63   2.94  33.4  \n",
       "4  396.90   5.33  36.2  "
      ]
     },
     "execution_count": 3,
     "metadata": {},
     "output_type": "execute_result"
    }
   ],
   "source": [
    "data=pd.read_csv('Boston.csv')\n",
    "data.head(5)"
   ]
  },
  {
   "cell_type": "code",
   "execution_count": 4,
   "id": "b015f876-22b6-4795-8fd4-8d163bad9fe6",
   "metadata": {},
   "outputs": [],
   "source": [
    "df=np.array(data)\n",
    "for i in range(0,13):\n",
    "    df[:,i]=(df[:,i]-np.mean(df[:,i]))/np.std(df[:,i])\n",
    "X=df[:,0:13]\n",
    "E = np.ones(len(X)) \n",
    "X = np.column_stack([E, X])\n",
    "Y=df[:,13]\n",
    "train_data, test_data = train_test_split(df, test_size=0.2, random_state=123)\n",
    "train_X=train_data[:,0:13]\n",
    "E = np.ones(len(train_X)) \n",
    "train_X = np.column_stack([E, train_X])\n",
    "train_Y=train_data[:,13]\n",
    "test_X=test_data[:,0:13]\n",
    "E = np.ones(len(test_X)) \n",
    "test_X = np.column_stack([E, test_X])\n",
    "test_Y=test_data[:,13]\n",
    "l=[10**(-3+0.1*i) for i in range(0,60)]\n",
    "MSE=[0]*60"
   ]
  },
  {
   "cell_type": "code",
   "execution_count": 5,
   "id": "d6b57fa0-78c4-40d9-a481-21c60a715dee",
   "metadata": {},
   "outputs": [
    {
     "name": "stdout",
     "output_type": "stream",
     "text": [
      "[49.02325645718729, 49.02325645718729, 49.02325645718729, 49.02325645718729, 49.02325645718729, 49.02325645718729, 49.02325645718729, 49.02325645718729, 49.02325645718729, 52.118583476058234, 52.118583476058234, 52.118583476058234, 52.118583476058234, 52.118583476058234, 49.02325645718729, 49.02325645718729, 49.02325645718729, 49.02325645718729, 49.02325645718729, 49.02325645718729, 49.02325645718729, 49.02325645718729, 52.85295947555943, 49.02325645718729, 52.85295947555943, 49.02325645718729, 52.85295947555943, 55.433331238606506, 52.85295947555943, 52.85295947555943, 56.79258042036547, 56.79258042036547, 61.943278085411514, 64.19171888835547, 64.19171888835547, 64.19171888835547, 71.37580643215702, 75.61048106070608, 91.04886693741733, 110.50687651848912, 133.98450980392158, 149.30215686274508, 166.61980392156866, 207.25509803921565, 283.2080392156863, 377.16098039215694, 530.431568627451, 619.0668627450981, 619.0668627450981, 619.0668627450981, 619.0668627450981, 619.0668627450981, 619.0668627450981, 619.0668627450981, 619.0668627450981, 619.0668627450981, 619.0668627450981, 619.0668627450981, 619.0668627450981, 619.0668627450981]\n"
     ]
    },
    {
     "data": {
      "text/plain": [
       "<matplotlib.legend.Legend at 0x1c81efaab70>"
      ]
     },
     "execution_count": 5,
     "metadata": {},
     "output_type": "execute_result"
    },
    {
     "data": {
      "image/png": "[encoded data removed]",
      "text/plain": [
       "<Figure size 800x600 with 1 Axes>"
      ]
     },
     "metadata": {},
     "output_type": "display_data"
    }
   ],
   "source": [
    "miu=0.1\n",
    "for i in range(0,60):\n",
    "    beta_p1=np.zeros(14)\n",
    "    beta_p2=np.array([100]*14)\n",
    "    iteration=0\n",
    "    while np.sqrt(np.sum((beta_p2-beta_p1)**2))>0.001 and iteration<1000:\n",
    "        beta_p1=beta_p2.copy()\n",
    "        G=Gradient(train_X,train_Y,beta_p1)\n",
    "        beta_mid=beta_p1-miu*G\n",
    "        for j in range(0,14):\n",
    "            if beta_mid[j]>l[i]*miu:\n",
    "                beta_p2[j]=beta_mid[j]-l[i]*miu\n",
    "            elif beta_mid[j]<-l[i]*miu:\n",
    "                beta_p2[j]=beta_mid[j]+l[i]*miu\n",
    "            else:\n",
    "                beta_p2[j]=0\n",
    "        iteration=iteration+1\n",
    "        if iteration%100==0:\n",
    "            print(f'i={i}')\n",
    "            print(f'iteration:{iteration}')\n",
    "            print(np.sqrt(np.sum((beta_p2-beta_p1)**2)))\n",
    "    MSE[i]=Loss(test_X,test_Y,beta_p1)   \n",
    "print(MSE)\n",
    "index=MSE.index(min(MSE))\n",
    "figure=plt.figure(figsize=(8, 6))\n",
    "plt.semilogx(l,MSE,color=\"blue\",label=\"Lambda vs MSE\")\n",
    "plt.axvline(x=l[index], color='green', linestyle='--',label='Optimal Step')\n",
    "plt.xlabel(\"Lambda\")\n",
    "plt.ylabel(\"MSE\")\n",
    "plt.legend()"
   ]
  },
  {
   "cell_type": "code",
   "execution_count": 6,
   "id": "35549b10-e410-4110-86fb-84deccfcdd88",
   "metadata": {},
   "outputs": [
    {
     "name": "stdout",
     "output_type": "stream",
     "text": [
      "[21  0  0  0  0  0  5  0  0  0  0  0  1  0]\n"
     ]
    }
   ],
   "source": [
    "beta_p1=np.zeros(14)\n",
    "beta_p2=np.array([100]*14)\n",
    "iteration=0\n",
    "while np.sqrt(np.sum((beta_p2-beta_p1)**2))>0.001 and iteration<1000:\n",
    "    beta_p1=beta_p2.copy()\n",
    "    G=Gradient(train_X,train_Y,beta_p1)\n",
    "    beta_mid=beta_p1-miu*G\n",
    "    for j in range(0,14):\n",
    "        if beta_mid[j]>l[0]*miu:\n",
    "            beta_p2[j]=beta_mid[j]-l[0]*miu\n",
    "        elif beta_mid[j]<-l[i]*miu:\n",
    "             beta_p2[j]=beta_mid[j]+l[0]*miu\n",
    "        else:\n",
    "            beta_p2[j]=0\n",
    "    iteration=iteration+1\n",
    "    if iteration%100==0:\n",
    "        print(f'iteration:{iteration}')\n",
    "        print(np.sqrt(np.sum((beta_p2-beta_p1)**2)))\n",
    "print(beta_p1)"
   ]
  },
  {
   "cell_type": "code",
   "execution_count": 7,
   "id": "17a323ac-4cd4-4cb1-b2ff-7adc96be6724",
   "metadata": {},
   "outputs": [
    {
     "name": "stdout",
     "output_type": "stream",
     "text": [
      "0.001\n"
     ]
    }
   ],
   "source": []
  },
  {
   "cell_type": "code",
   "execution_count": null,
   "id": "9d02b8d0-d4aa-4694-8506-d8b48eeaf480",
   "metadata": {},
   "outputs": [],
   "source": []
  }
 ],
 "metadata": {
  "kernelspec": {
   "display_name": "Python 3 (ipykernel)",
   "language": "python",
   "name": "python3"
  },
  "language_info": {
   "codemirror_mode": {
    "name": "ipython",
    "version": 3
   },
   "file_extension": ".py",
   "mimetype": "text/x-python",
   "name": "python",
   "nbconvert_exporter": "python",
   "pygments_lexer": "ipython3",
   "version": "3.12.4"
  }
 },
 "nbformat": 4,
 "nbformat_minor": 5
}
